{
 "cells": [
  {
   "cell_type": "markdown",
   "metadata": {},
   "source": [
    "# Binomial Asset Pricing Model\n"
   ]
  },
  {
   "cell_type": "code",
   "execution_count": 8,
   "metadata": {},
   "outputs": [],
   "source": [
    "import numpy as np"
   ]
  },
  {
   "cell_type": "markdown",
   "metadata": {},
   "source": [
    "## Binomial Tree Representation\n",
    "\n",
    "Stock tree represented using nodes with co=ordinate system (i,j) where i will dictate time step and j will dictate the node. \n",
    "\n",
    "\n",
    "$$S_{ij}=S_{0}u^{j}d^{i-j}$$ \n",
    "  \n",
    "  \n",
    "$C_{ij}$ represents the contract price at each node (i,j). Where $C_{N,j}$ represents final payoff function.  \n",
    "\n",
    "Here we use European Call so, $$C_{N,j} = max(S_{N,j}-K,0)$$"
   ]
  },
  {
   "cell_type": "code",
   "execution_count": 22,
   "metadata": {},
   "outputs": [],
   "source": [
    "#Initial Parameters\n",
    "S0 = 100\n",
    "K = 100\n",
    "T = 1\n",
    "r = 0.06\n",
    "N= 3\n",
    "u = 1.1\n",
    "d = 1/u\n",
    "opttype = 'C'"
   ]
  },
  {
   "cell_type": "markdown",
   "metadata": {},
   "source": [
    "## Binomial Tree using for Loops"
   ]
  },
  {
   "cell_type": "code",
   "execution_count": 23,
   "metadata": {},
   "outputs": [
    {
     "data": {
      "text/plain": [
       "10.145735799928817"
      ]
     },
     "execution_count": 23,
     "metadata": {},
     "output_type": "execute_result"
    }
   ],
   "source": [
    "def binomial_tree_loops(K,T,S0,r,N,u,d,opttype='C'):\n",
    "    dt = T/N\n",
    "    q = (np.exp(r*dt) - d)/ (u-d) # risk neutral prob\n",
    "    disc = np.exp(-r*dt)\n",
    "\n",
    "    #prices at maturity\n",
    "\n",
    "    S = np.zeros(N+1)\n",
    "    S[0] = S0*d**N\n",
    "\n",
    "    for j in range(1,N+1):\n",
    "        S[j] = S[j-1]*u/d\n",
    "\n",
    "    #option at maturity\n",
    "\n",
    "    C = np.zeros(N+1)\n",
    "    for j in range(0,N+1):\n",
    "        C[j] = max(0,S[j]-K)\n",
    "\n",
    "    #Step backwards through tree\n",
    "    for i in np.arange(N,0,-1):\n",
    "        for j in range(0,i):\n",
    "            C[j] = disc * (q*C[j+1]+(1-q)*C[j])\n",
    "\n",
    "    return C[0]\n",
    "\n",
    "binomial_tree_loops(K,T,S0,r,N,u,d,opttype='C')"
   ]
  },
  {
   "cell_type": "markdown",
   "metadata": {},
   "source": [
    "## Binomial Tree using Nodes"
   ]
  },
  {
   "cell_type": "code",
   "execution_count": 25,
   "metadata": {},
   "outputs": [
    {
     "data": {
      "text/plain": [
       "10.145735799928826"
      ]
     },
     "execution_count": 25,
     "metadata": {},
     "output_type": "execute_result"
    }
   ],
   "source": [
    "def binomial_tree_node(K,T,S0,r,N,u,d,opttype='C'):\n",
    "    dt = T/N\n",
    "    q = (np.exp(r*dt) - d)/ (u-d) # risk neutral prob\n",
    "    disc = np.exp(-r*dt)\n",
    "\n",
    "    #prices at maturity\n",
    "\n",
    "    C = S0*d**(np.arange(N,-1,-1)) * u ** (np.arange(0,N+1,1))\n",
    "\n",
    "    #option at maturity\n",
    "\n",
    "    C = np.maximum(C-K,np.zeros(N+1))    \n",
    "\n",
    "\n",
    "\n",
    "    #Step backwards through tree\n",
    "    for i in np.arange(N,0,-1):\n",
    "        C = disc * (q*C[1:i+1] + (1-q) * C[0:i])\n",
    "\n",
    "\n",
    "\n",
    "    return C[0]\n",
    "\n",
    "binomial_tree_node(K,T,S0,r,N,u,d,opttype='C')"
   ]
  },
  {
   "cell_type": "markdown",
   "metadata": {},
   "source": []
  }
 ],
 "metadata": {
  "kernelspec": {
   "display_name": "Python 3",
   "language": "python",
   "name": "python3"
  },
  "language_info": {
   "codemirror_mode": {
    "name": "ipython",
    "version": 3
   },
   "file_extension": ".py",
   "mimetype": "text/x-python",
   "name": "python",
   "nbconvert_exporter": "python",
   "pygments_lexer": "ipython3",
   "version": "3.11.6"
  }
 },
 "nbformat": 4,
 "nbformat_minor": 2
}
